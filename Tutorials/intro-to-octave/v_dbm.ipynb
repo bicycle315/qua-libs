{
 "cells": [
  {
   "cell_type": "markdown",
   "metadata": {},
   "source": [
    "0~0.5V(1mV:-47dBm, 500mV:7dBm)"
   ]
  },
  {
   "cell_type": "markdown",
   "metadata": {},
   "source": [
    "atten(-20db, oct-20dB):-40dB\n",
    "\n",
    "amp=1(125mV)-> -48.1dBm\n",
    "\n",
    "amp=0.1(0.0125mV)->-65dBm\n",
    "\n",
    "* -73dBm leaking "
   ]
  },
  {
   "cell_type": "code",
   "execution_count": null,
   "metadata": {},
   "outputs": [],
   "source": [
    "def v_dbm(v, a):\n",
    "    dbm=20 * np.log10(v / 1e-3)\n",
    "    return dbm"
   ]
  },
  {
   "cell_type": "code",
   "execution_count": null,
   "metadata": {},
   "outputs": [],
   "source": [
    "def v_dbm(v, a_start,a_end):\n",
    "    power_mw = ((v*a_start) ** 2) / 50 * 1e3  # power in milliwatts\n",
    "    power_start=10 * np.log10(power_mw)\n",
    "    power_mw = ((v*a_end) ** 2) / 50 * 1e3  # power in milliwatts\n",
    "    power_end=10 * np.log10(power_mw)\n",
    "    print(f'{np.round(power_start,2)}dBm~{np.round(power_end,2)}dBm')\n",
    "def dbm(v):\n",
    "    power_mw = ((v) ** 2) / 50 * 1e3  # power in milliwatts\n",
    "    return 10 * np.log10(power_mw)\n"
   ]
  }
 ],
 "metadata": {
  "language_info": {
   "name": "python"
  }
 },
 "nbformat": 4,
 "nbformat_minor": 2
}
