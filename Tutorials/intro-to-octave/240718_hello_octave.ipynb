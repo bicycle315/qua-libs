{
 "cells": [
  {
   "cell_type": "code",
   "execution_count": 33,
   "metadata": {},
   "outputs": [],
   "source": [
    "import sys\n",
    "sys.path.append('C:/Users/wjd__/qua-libs/Tutorials/intro-to-octave')\n",
    "from qm import QuantumMachinesManager\n",
    "from qm.qua import *\n",
    "from qm.octave import *\n",
    "from configuration_TWPA import *\n",
    "from qm import SimulationConfig\n",
    "import time\n",
    "import numpy as np"
   ]
  },
  {
   "cell_type": "code",
   "execution_count": 34,
   "metadata": {},
   "outputs": [
    {
     "name": "stdout",
     "output_type": "stream",
     "text": [
      "2024-07-21 15:05:23,302 - qm - INFO     - Performing health check\n",
      "2024-07-21 15:05:23,311 - qm - INFO     - Health check passed\n"
     ]
    },
    {
     "name": "stderr",
     "output_type": "stream",
     "text": [
      "c:\\Users\\wjd__\\anaconda3\\envs\\qua\\lib\\site-packages\\qm\\quantum_machines_manager.py:102: DeprecationWarning: QMM was opened with OctaveConfig. Please note that from QOP2.4.0 the octave devices are managed by the cluster setting in the QM-app. It is recommended to remove the OctaveConfig from the QMM instantiation.\n",
      "  warnings.warn(\n"
     ]
    }
   ],
   "source": [
    "qmm = QuantumMachinesManager(host=qop_ip, cluster_name='TWPA', octave=octave_config)"
   ]
  },
  {
   "cell_type": "code",
   "execution_count": 31,
   "metadata": {},
   "outputs": [],
   "source": [
    "with program() as pump_sweep:\n",
    "    with infinite_loop_():\n",
    "        for i in range(10):\n",
    "            play(pulse=\"cw\"*amp(i), element=\"pump\")\n",
    "            play(pulse=\"cw\"*amp(i), element=\"pump\", chirp=(500,'MHz/sec')) # amp : variable -> sweep (for i X?)"
   ]
  },
  {
   "cell_type": "code",
   "execution_count": 32,
   "metadata": {},
   "outputs": [
    {
     "name": "stdout",
     "output_type": "stream",
     "text": [
      "2024-07-18 17:38:23,971 - qm - WARNING  - No calibration_db set in octave config, skipping loading calibration data\n"
     ]
    },
    {
     "name": "stdout",
     "output_type": "stream",
     "text": [
      "2024-07-18 17:38:24,345 - qm - INFO     - Sending program to QOP for compilation\n",
      "2024-07-18 17:38:24,585 - qm - INFO     - Executing program\n"
     ]
    },
    {
     "data": {
      "text/plain": [
       "True"
      ]
     },
     "execution_count": 32,
     "metadata": {},
     "output_type": "execute_result"
    }
   ],
   "source": [
    "qm = qmm.open_qm(config)\n",
    "# qm.octave.set_lo_frequency('pump',6.1e9)\n",
    "job = qm.execute(pump_sweep)\n",
    "# time.sleep(10)\n",
    "job.halt()"
   ]
  },
  {
   "cell_type": "code",
   "execution_count": 11,
   "metadata": {},
   "outputs": [],
   "source": [
    "qm.octave.set_lo_frequency('pump',6.3e9)\n",
    "qm.octave.set_rf_output_gain('pump',20)"
   ]
  },
  {
   "cell_type": "code",
   "execution_count": 5,
   "metadata": {},
   "outputs": [],
   "source": [
    "with program() as hello_octave:\n",
    "        # with infinite_loop_():\n",
    "                play(\"cw\" * amp(0.5), \"pump\")"
   ]
  },
  {
   "cell_type": "markdown",
   "metadata": {},
   "source": [
    "# power\n",
    "## amp\n",
    "4. amp(0.1)->13.13\n",
    "1. amp(1)->-14\n",
    "6. amp(5)-> -14.06\n",
    "3. amp(10)->-17.77\n",
    "5. amp(20)->-13.13\n",
    "2. amp(100)->-13.15\n",
    "\n",
    "## gain\n",
    "-20 -> -53\n",
    "\n",
    "0 -> -33\n",
    "\n",
    "20 -> -13\n"
   ]
  },
  {
   "cell_type": "code",
   "execution_count": null,
   "metadata": {},
   "outputs": [],
   "source": []
  }
 ],
 "metadata": {
  "kernelspec": {
   "display_name": "qua",
   "language": "python",
   "name": "python3"
  },
  "language_info": {
   "codemirror_mode": {
    "name": "ipython",
    "version": 3
   },
   "file_extension": ".py",
   "mimetype": "text/x-python",
   "name": "python",
   "nbconvert_exporter": "python",
   "pygments_lexer": "ipython3",
   "version": "3.9.19"
  }
 },
 "nbformat": 4,
 "nbformat_minor": 2
}
