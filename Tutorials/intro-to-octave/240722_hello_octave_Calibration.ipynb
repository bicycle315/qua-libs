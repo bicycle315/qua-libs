{
 "cells": [
  {
   "cell_type": "code",
   "execution_count": 1,
   "metadata": {},
   "outputs": [
    {
     "name": "stdout",
     "output_type": "stream",
     "text": [
      "2024-07-22 18:12:08,122 - qm - INFO     - Starting session: 5357c2bd-91c7-4667-b217-24c5f4718d7b\n",
      "2024-07-22 18:12:11,398 - qm - INFO     - Octave \"oct1\" Health check passed, current temperature 58\n",
      "2024-07-22 18:12:11,403 - qm - INFO     - Performing health check\n",
      "2024-07-22 18:12:11,416 - qm - INFO     - Health check passed\n",
      "2024-07-22 18:12:12,182 - qm - WARNING  - Open QM ended with warning 0: Opening a new Quantum Machine and closing Quantum Machines: \n",
      "2024-07-22 18:12:12,184 - qm - WARNING  - Open QM ended with warning 0: Quantum Machine qm-1721660934500 is canceling running job 1721296029361.\n"
     ]
    },
    {
     "name": "stdout",
     "output_type": "stream",
     "text": [
      "2024-07-22 18:28:09,245 - qm - ERROR    - Octave \"oct1\" lost monitor connection\n"
     ]
    }
   ],
   "source": [
    "import sys\n",
    "sys.path.append('C:/Users/wjd__/qua-libs/Tutorials/intro-to-octave')\n",
    "from qm import QuantumMachinesManager\n",
    "from qm.qua import *\n",
    "from qm.octave import *\n",
    "from configuration_TWPA_240722 import *\n",
    "from qm import SimulationConfig\n",
    "import time\n",
    "import numpy as np\n",
    "\n",
    "# Specify where to store the outcome of the calibration (correction matrix, offsets...)\n",
    "octave_config.set_calibration_db(os.getcwd())\n",
    "qmm = QuantumMachinesManager(host=qop_ip, cluster_name='TWPA', octave=octave_config)\n",
    "qm = qmm.open_qm(config)\n"
   ]
  },
  {
   "cell_type": "code",
   "execution_count": 2,
   "metadata": {},
   "outputs": [
    {
     "data": {
      "text/plain": [
       "{'version': 1,\n",
       " 'controllers': {'con1': {'analog_outputs': {1: {'offset': 0.0},\n",
       "    2: {'offset': 0.0}},\n",
       "   'digital_outputs': {1: {}},\n",
       "   'analog_inputs': {1: {'offset': 0.0}, 2: {'offset': 0.0}}}},\n",
       " 'elements': {'pump': {'RF_inputs': {'port': ('oct1', 1)},\n",
       "   'RF_outputs': {'port': ('oct1', 1)},\n",
       "   'intermediate_frequency': 100000000.0,\n",
       "   'operations': {'cw': 'const', 'readout': 'readout_pulse'},\n",
       "   'digitalInputs': {'switch': {'port': ('con1', 1),\n",
       "     'delay': 87,\n",
       "     'buffer': 15}},\n",
       "   'time_of_flight': 24,\n",
       "   'smearing': 0}},\n",
       " 'octaves': {'oct1': {'RF_outputs': {1: {'LO_frequency': 8100000000.0,\n",
       "     'LO_source': 'internal',\n",
       "     'output_mode': 'always_on',\n",
       "     'gain': 0}},\n",
       "   'connectivity': 'con1'}},\n",
       " 'pulses': {'const': {'operation': 'control',\n",
       "   'length': 1000,\n",
       "   'waveforms': {'I': 'const_wf', 'Q': 'zero_wf'}},\n",
       "  'readout_pulse': {'operation': 'measurement',\n",
       "   'length': 1000,\n",
       "   'waveforms': {'I': 'readout_wf', 'Q': 'zero_wf'},\n",
       "   'integration_weights': {'cos': 'cosine_weights',\n",
       "    'sin': 'sine_weights',\n",
       "    'minus_sin': 'minus_sine_weights'},\n",
       "   'digital_marker': 'ON'}},\n",
       " 'waveforms': {'zero_wf': {'type': 'constant', 'sample': 0.0},\n",
       "  'const_wf': {'type': 'constant', 'sample': 0.1},\n",
       "  'readout_wf': {'type': 'constant', 'sample': 0.125}},\n",
       " 'digital_waveforms': {'ON': {'samples': [(1, 0)]},\n",
       "  'OFF': {'samples': [(0, 0)]}},\n",
       " 'integration_weights': {'cosine_weights': {'cosine': [(1.0, 1000)],\n",
       "   'sine': [(0.0, 1000)]},\n",
       "  'sine_weights': {'cosine': [(0.0, 1000)], 'sine': [(1.0, 1000)]},\n",
       "  'minus_sine_weights': {'cosine': [(0.0, 1000)], 'sine': [(-1.0, 1000)]}}}"
      ]
     },
     "execution_count": 2,
     "metadata": {},
     "output_type": "execute_result"
    }
   ],
   "source": [
    "config"
   ]
  },
  {
   "cell_type": "code",
   "execution_count": 3,
   "metadata": {},
   "outputs": [],
   "source": [
    "with program() as pump:\n",
    "    with infinite_loop_(): # cw 1000ns 짜리를 무한히 계속 한다는건가(zero latency between iterations)\n",
    "            play(\"cw\"*amp(1.5), element=\"pump\") "
   ]
  },
  {
   "cell_type": "code",
   "execution_count": 5,
   "metadata": {},
   "outputs": [
    {
     "name": "stdout",
     "output_type": "stream",
     "text": [
      "2024-07-22 18:12:28,495 - qm - INFO     - Sending program to QOP for compilation\n",
      "2024-07-22 18:12:28,554 - qm - INFO     - Executing program\n"
     ]
    }
   ],
   "source": [
    "job = qm.execute(pump)\n",
    "time.sleep(3)\n",
    "# job.halt()"
   ]
  },
  {
   "cell_type": "code",
   "execution_count": 4,
   "metadata": {},
   "outputs": [
    {
     "data": {
      "text/plain": [
       "True"
      ]
     },
     "execution_count": 4,
     "metadata": {},
     "output_type": "execute_result"
    }
   ],
   "source": [
    "job.halt()"
   ]
  },
  {
   "cell_type": "code",
   "execution_count": 12,
   "metadata": {},
   "outputs": [],
   "source": [
    "# for_(var, start, end_cond, step)\n",
    "with program() as pump_sweep:\n",
    "    a = declare(fixed)\n",
    "    # with infinite_loop_():\n",
    "    with for_(a,0.1,a<1,a+0.01): # -2<amplitude<1.99 (programmed due to memory?)\n",
    "            play(pulse=\"cw\"*amp(a), element=\"pump\") "
   ]
  },
  {
   "cell_type": "code",
   "execution_count": 3,
   "metadata": {},
   "outputs": [],
   "source": [
    "with program() as pump_sweep:\n",
    "    a = declare(fixed)\n",
    "    with infinite_loop_():\n",
    "        with for_(a,0.1,a<1,a+0.01): # -2<amplitude<1.99 (programmed due to memory?)\n",
    "            play(pulse=\"cw\"*amp(a), element=\"pump\") "
   ]
  },
  {
   "cell_type": "code",
   "execution_count": 3,
   "metadata": {},
   "outputs": [
    {
     "name": "stdout",
     "output_type": "stream",
     "text": [
      "------------------------------------- Play before calibration\n",
      "2024-07-22 16:22:43,522 - qm - INFO     - Sending program to QOP for compilation\n"
     ]
    },
    {
     "name": "stdout",
     "output_type": "stream",
     "text": [
      "2024-07-22 16:22:43,601 - qm - INFO     - Executing program\n",
      "------------------------------------- Calibrates pump\n",
      "2024-07-22 16:22:54,820 - qm - INFO     - Compiling program\n"
     ]
    },
    {
     "name": "stderr",
     "output_type": "stream",
     "text": [
      "c:\\Users\\wjd__\\anaconda3\\envs\\qua\\lib\\site-packages\\qm\\octave\\_calibration_analysis.py:124: RuntimeWarning: invalid value encountered in scalar divide\n",
      "  x0_ = -p_[1] / (2 * p_[3])\n",
      "c:\\Users\\wjd__\\anaconda3\\envs\\qua\\lib\\site-packages\\qm\\octave\\_calibration_analysis.py:125: RuntimeWarning: invalid value encountered in scalar divide\n",
      "  y0_ = -p_[2] / (2 * p_[5])\n",
      "c:\\Users\\wjd__\\anaconda3\\envs\\qua\\lib\\site-packages\\qm\\octave\\_calibration_analysis.py:208: RuntimeWarning: invalid value encountered in scalar divide\n",
      "  _I2c, _IQc, _Q2c = _I2c / _n, _IQc / _n, _Q2c / _n\n",
      "c:\\Users\\wjd__\\anaconda3\\envs\\qua\\lib\\site-packages\\qm\\octave\\_calibration_analysis.py:124: RuntimeWarning: invalid value encountered in scalar divide\n",
      "  x0_ = -p_[1] / (2 * p_[3])\n",
      "c:\\Users\\wjd__\\anaconda3\\envs\\qua\\lib\\site-packages\\qm\\octave\\_calibration_analysis.py:125: RuntimeWarning: invalid value encountered in scalar divide\n",
      "  y0_ = -p_[2] / (2 * p_[5])\n",
      "c:\\Users\\wjd__\\anaconda3\\envs\\qua\\lib\\site-packages\\qm\\octave\\_calibration_analysis.py:208: RuntimeWarning: invalid value encountered in scalar divide\n",
      "  _I2c, _IQc, _Q2c = _I2c / _n, _IQc / _n, _Q2c / _n\n",
      "c:\\Users\\wjd__\\anaconda3\\envs\\qua\\lib\\site-packages\\qm\\octave\\_calibration_analysis.py:124: RuntimeWarning: invalid value encountered in scalar divide\n",
      "  x0_ = -p_[1] / (2 * p_[3])\n",
      "c:\\Users\\wjd__\\anaconda3\\envs\\qua\\lib\\site-packages\\qm\\octave\\_calibration_analysis.py:125: RuntimeWarning: invalid value encountered in scalar divide\n",
      "  y0_ = -p_[2] / (2 * p_[5])\n",
      "c:\\Users\\wjd__\\anaconda3\\envs\\qua\\lib\\site-packages\\qm\\octave\\_calibration_analysis.py:124: RuntimeWarning: invalid value encountered in scalar divide\n",
      "  x0_ = -p_[1] / (2 * p_[3])\n",
      "c:\\Users\\wjd__\\anaconda3\\envs\\qua\\lib\\site-packages\\qm\\octave\\_calibration_analysis.py:125: RuntimeWarning: invalid value encountered in scalar divide\n",
      "  y0_ = -p_[2] / (2 * p_[5])\n"
     ]
    },
    {
     "name": "stdout",
     "output_type": "stream",
     "text": [
      "2024-07-22 16:23:00,431 - qm - WARNING  - At least one of the correction values are out of range. values should be between -2 and 2 - 2 ** (-16), got [nan, nan, nan, nan]. Not setting the correction matrix.\n",
      "------------------------------------- Play after calibration\n",
      "2024-07-22 16:23:00,440 - qm - INFO     - Sending program to QOP for compilation\n",
      "2024-07-22 16:23:00,512 - qm - INFO     - Executing program\n"
     ]
    }
   ],
   "source": [
    "calibration = True\n",
    "elements=[\"pump\"]\n",
    "if calibration:\n",
    "    print(\"-\" * 37 + \" Play before calibration\")\n",
    "    # Step 5.1: Connect RF1 and run these lines in order to see the uncalibrated signal first\n",
    "    job = qm.execute(pump)\n",
    "    time.sleep(10)  # The program will run for 10 seconds\n",
    "    job.halt()\n",
    "    # Step 5.2: Run this in order to calibrate\n",
    "    for element in elements:\n",
    "        print(\"-\" * 37 + f\" Calibrates {element}\")\n",
    "        qm.calibrate_element(element, {6e9: (50e6,)})  # can provide many IFs for specific LO\n",
    "    # Step 5.3: Run these and look at the spectrum analyzer and check if you get 1 peak at LO+IF (i.e. 6.05GHz)\n",
    "    print(\"-\" * 37 + \" Play after calibration\")\n",
    "    job = qm.execute(pump)\n",
    "    time.sleep(30)  # The program will run for 30 seconds\n",
    "    job.halt()\n"
   ]
  },
  {
   "cell_type": "code",
   "execution_count": 70,
   "metadata": {},
   "outputs": [],
   "source": [
    "qm.octave.set_lo_frequency('pump',6.3e9)\n",
    "qm.octave.set_rf_output_gain('pump',-20)"
   ]
  },
  {
   "cell_type": "markdown",
   "metadata": {},
   "source": [
    "# power\n",
    "## amp\n",
    "4. amp(0.1)->13.13\n",
    "1. amp(1)->-14\n",
    "6. amp(5)-> -14.06\n",
    "3. amp(10)->-17.77\n",
    "5. amp(20)->-13.13\n",
    "2. amp(100)->-13.15\n",
    "\n",
    "## gain\n",
    "-20 -> -53\n",
    "\n",
    "0 -> -33\n",
    "\n",
    "20 -> -13\n"
   ]
  },
  {
   "cell_type": "code",
   "execution_count": 7,
   "metadata": {},
   "outputs": [
    {
     "name": "stdout",
     "output_type": "stream",
     "text": [
      "anyio==4.4.0\n",
      "asttokens @ file:///home/conda/feedstock_root/build_artifacts/asttokens_1698341106958/work\n",
      "backcall @ file:///home/conda/feedstock_root/build_artifacts/backcall_1592338393461/work\n",
      "betterproto==2.0.0b5\n",
      "certifi==2024.7.4\n",
      "colorama @ file:///home/conda/feedstock_root/build_artifacts/colorama_1666700638685/work\n",
      "comm @ file:///home/conda/feedstock_root/build_artifacts/comm_1710320294760/work\n",
      "contourpy==1.2.1\n",
      "cycler==0.12.1\n",
      "datadog-api-client==2.26.0\n",
      "debugpy @ file:///C:/b/abs_c0y1fjipt2/croot/debugpy_1690906864587/work\n",
      "decorator @ file:///home/conda/feedstock_root/build_artifacts/decorator_1641555617451/work\n",
      "dependency-injector==4.41.0\n",
      "deprecation==2.1.0\n",
      "exceptiongroup==1.2.2\n",
      "executing @ file:///home/conda/feedstock_root/build_artifacts/executing_1698579936712/work\n",
      "fonttools==4.53.1\n",
      "grpcio==1.64.1\n",
      "grpclib==0.4.5\n",
      "h11==0.14.0\n",
      "h2==4.1.0\n",
      "hpack==4.0.0\n",
      "httpcore==0.16.3\n",
      "httpx==0.23.3\n",
      "hyperframe==6.0.1\n",
      "idna==3.7\n",
      "importlib_metadata @ file:///home/conda/feedstock_root/build_artifacts/importlib-metadata_1719361860083/work\n",
      "importlib_resources==6.4.0\n",
      "ipykernel @ file:///D:/bld/ipykernel_1719845595208/work\n",
      "ipynb-py-convert==0.4.6\n",
      "ipython @ file:///D:/bld/ipython_1680185618122/work\n",
      "jedi @ file:///home/conda/feedstock_root/build_artifacts/jedi_1696326070614/work\n",
      "joblib==1.4.2\n",
      "jupyter_client @ file:///home/conda/feedstock_root/build_artifacts/jupyter_client_1716472197302/work\n",
      "jupyter_core @ file:///D:/bld/jupyter_core_1710257377578/work\n",
      "kiwisolver==1.4.5\n",
      "marshmallow==3.21.3\n",
      "marshmallow-polyfield==5.11\n",
      "matplotlib==3.9.1\n",
      "matplotlib-inline @ file:///home/conda/feedstock_root/build_artifacts/matplotlib-inline_1713250518406/work\n",
      "multidict==6.0.5\n",
      "nest_asyncio @ file:///home/conda/feedstock_root/build_artifacts/nest-asyncio_1705850609492/work\n",
      "numpy==1.26.4\n",
      "packaging @ file:///home/conda/feedstock_root/build_artifacts/packaging_1718189413536/work\n",
      "parso @ file:///home/conda/feedstock_root/build_artifacts/parso_1712320355065/work\n",
      "pickleshare @ file:///home/conda/feedstock_root/build_artifacts/pickleshare_1602536217715/work\n",
      "pillow==10.4.0\n",
      "platformdirs @ file:///home/conda/feedstock_root/build_artifacts/platformdirs_1715777629804/work\n",
      "plotly==5.22.0\n",
      "prompt_toolkit @ file:///home/conda/feedstock_root/build_artifacts/prompt-toolkit_1718047967974/work\n",
      "protobuf==3.20.3\n",
      "psutil @ file:///C:/Windows/Temp/abs_b2c2fd7f-9fd5-4756-95ea-8aed74d0039flsd9qufz/croots/recipe/psutil_1656431277748/work\n",
      "pure-eval @ file:///home/conda/feedstock_root/build_artifacts/pure_eval_1642875951954/work\n",
      "Pygments @ file:///home/conda/feedstock_root/build_artifacts/pygments_1714846767233/work\n",
      "pyparsing==3.1.2\n",
      "python-dateutil @ file:///home/conda/feedstock_root/build_artifacts/python-dateutil_1709299778482/work\n",
      "pywin32==305.1\n",
      "pyzmq @ file:///C:/b/abs_89aq69t0up/croot/pyzmq_1705605705281/work\n",
      "qiskit==1.0.1\n",
      "qm-octave==2.1.0\n",
      "qm-qua==1.1.7\n",
      "qualang-tools==0.17.6\n",
      "rfc3986==1.5.0\n",
      "scikit-learn==1.5.1\n",
      "scipy==1.13.1\n",
      "six @ file:///home/conda/feedstock_root/build_artifacts/six_1620240208055/work\n",
      "sniffio==1.3.1\n",
      "stack-data @ file:///home/conda/feedstock_root/build_artifacts/stack_data_1669632077133/work\n",
      "tenacity==8.5.0\n",
      "threadpoolctl==3.5.0\n",
      "tinydb==4.8.0\n",
      "tornado @ file:///D:/bld/tornado_1656937934674/work\n",
      "traitlets @ file:///home/conda/feedstock_root/build_artifacts/traitlets_1713535121073/work\n",
      "typing_extensions @ file:///home/conda/feedstock_root/build_artifacts/typing_extensions_1717802530399/work\n",
      "urllib3==2.2.2\n",
      "wcwidth @ file:///home/conda/feedstock_root/build_artifacts/wcwidth_1704731205417/work\n",
      "zipp @ file:///home/conda/feedstock_root/build_artifacts/zipp_1718013267051/work\n",
      "Note: you may need to restart the kernel to use updated packages.\n"
     ]
    }
   ],
   "source": [
    "pip freeze"
   ]
  },
  {
   "cell_type": "code",
   "execution_count": 8,
   "metadata": {},
   "outputs": [
    {
     "name": "stdout",
     "output_type": "stream",
     "text": [
      "Collecting qm-qua==1.1.7.1\n",
      "  Downloading qm_qua-1.1.7.1-py3-none-any.whl.metadata (1.9 kB)\n",
      "Requirement already satisfied: betterproto==2.0.0b5 in c:\\users\\wjd__\\anaconda3\\envs\\qua\\lib\\site-packages (from qm-qua==1.1.7.1) (2.0.0b5)\n",
      "Requirement already satisfied: datadog-api-client<3.0.0,>=2.6.0 in c:\\users\\wjd__\\anaconda3\\envs\\qua\\lib\\site-packages (from qm-qua==1.1.7.1) (2.26.0)\n",
      "Requirement already satisfied: dependency_injector<5.0.0,>=4.41.0 in c:\\users\\wjd__\\anaconda3\\envs\\qua\\lib\\site-packages (from qm-qua==1.1.7.1) (4.41.0)\n",
      "Requirement already satisfied: deprecation<3.0.0,>=2.1.0 in c:\\users\\wjd__\\anaconda3\\envs\\qua\\lib\\site-packages (from qm-qua==1.1.7.1) (2.1.0)\n",
      "Requirement already satisfied: grpcio<2.0.0,>=1.39.0 in c:\\users\\wjd__\\anaconda3\\envs\\qua\\lib\\site-packages (from qm-qua==1.1.7.1) (1.64.1)\n",
      "Requirement already satisfied: httpx<0.24.0,>=0.23.3 in c:\\users\\wjd__\\anaconda3\\envs\\qua\\lib\\site-packages (from httpx[http2]<0.24.0,>=0.23.3->qm-qua==1.1.7.1) (0.23.3)\n",
      "Requirement already satisfied: marshmallow<4.0.0,>=3.20.1 in c:\\users\\wjd__\\anaconda3\\envs\\qua\\lib\\site-packages (from qm-qua==1.1.7.1) (3.21.3)\n",
      "Requirement already satisfied: marshmallow-polyfield<6.0,>=5.7 in c:\\users\\wjd__\\anaconda3\\envs\\qua\\lib\\site-packages (from qm-qua==1.1.7.1) (5.11)\n",
      "Requirement already satisfied: numpy<2.0.0,>=1.17.0 in c:\\users\\wjd__\\anaconda3\\envs\\qua\\lib\\site-packages (from qm-qua==1.1.7.1) (1.26.4)\n",
      "Requirement already satisfied: plotly<6.0.0,>=5.13.0 in c:\\users\\wjd__\\anaconda3\\envs\\qua\\lib\\site-packages (from qm-qua==1.1.7.1) (5.22.0)\n",
      "Requirement already satisfied: protobuf<5,>=3.17.3 in c:\\users\\wjd__\\anaconda3\\envs\\qua\\lib\\site-packages (from qm-qua==1.1.7.1) (3.20.3)\n",
      "Requirement already satisfied: qm-octave==2.1.0 in c:\\users\\wjd__\\anaconda3\\envs\\qua\\lib\\site-packages (from qm-qua==1.1.7.1) (2.1.0)\n",
      "Requirement already satisfied: tinydb<5.0.0,>=4.6.1 in c:\\users\\wjd__\\anaconda3\\envs\\qua\\lib\\site-packages (from qm-qua==1.1.7.1) (4.8.0)\n",
      "Requirement already satisfied: typing-extensions<5.0,>=4.5 in c:\\users\\wjd__\\anaconda3\\envs\\qua\\lib\\site-packages (from qm-qua==1.1.7.1) (4.12.2)\n",
      "Requirement already satisfied: grpclib<0.5.0,>=0.4.1 in c:\\users\\wjd__\\anaconda3\\envs\\qua\\lib\\site-packages (from betterproto==2.0.0b5->qm-qua==1.1.7.1) (0.4.5)\n",
      "Requirement already satisfied: python-dateutil<3.0,>=2.8 in c:\\users\\wjd__\\anaconda3\\envs\\qua\\lib\\site-packages (from betterproto==2.0.0b5->qm-qua==1.1.7.1) (2.9.0)\n",
      "Requirement already satisfied: urllib3>=1.15 in c:\\users\\wjd__\\anaconda3\\envs\\qua\\lib\\site-packages (from datadog-api-client<3.0.0,>=2.6.0->qm-qua==1.1.7.1) (2.2.2)\n",
      "Requirement already satisfied: certifi in c:\\users\\wjd__\\anaconda3\\envs\\qua\\lib\\site-packages (from datadog-api-client<3.0.0,>=2.6.0->qm-qua==1.1.7.1) (2024.7.4)\n",
      "Requirement already satisfied: six<=1.16.0,>=1.7.0 in c:\\users\\wjd__\\anaconda3\\envs\\qua\\lib\\site-packages (from dependency_injector<5.0.0,>=4.41.0->qm-qua==1.1.7.1) (1.16.0)\n",
      "Requirement already satisfied: packaging in c:\\users\\wjd__\\anaconda3\\envs\\qua\\lib\\site-packages (from deprecation<3.0.0,>=2.1.0->qm-qua==1.1.7.1) (24.1)\n",
      "Requirement already satisfied: httpcore<0.17.0,>=0.15.0 in c:\\users\\wjd__\\anaconda3\\envs\\qua\\lib\\site-packages (from httpx<0.24.0,>=0.23.3->httpx[http2]<0.24.0,>=0.23.3->qm-qua==1.1.7.1) (0.16.3)\n",
      "Requirement already satisfied: rfc3986<2,>=1.3 in c:\\users\\wjd__\\anaconda3\\envs\\qua\\lib\\site-packages (from rfc3986[idna2008]<2,>=1.3->httpx<0.24.0,>=0.23.3->httpx[http2]<0.24.0,>=0.23.3->qm-qua==1.1.7.1) (1.5.0)\n",
      "Requirement already satisfied: sniffio in c:\\users\\wjd__\\anaconda3\\envs\\qua\\lib\\site-packages (from httpx<0.24.0,>=0.23.3->httpx[http2]<0.24.0,>=0.23.3->qm-qua==1.1.7.1) (1.3.1)\n",
      "Requirement already satisfied: h2<5,>=3 in c:\\users\\wjd__\\anaconda3\\envs\\qua\\lib\\site-packages (from httpx[http2]<0.24.0,>=0.23.3->qm-qua==1.1.7.1) (4.1.0)\n",
      "Requirement already satisfied: tenacity>=6.2.0 in c:\\users\\wjd__\\anaconda3\\envs\\qua\\lib\\site-packages (from plotly<6.0.0,>=5.13.0->qm-qua==1.1.7.1) (8.5.0)\n",
      "Requirement already satisfied: multidict in c:\\users\\wjd__\\anaconda3\\envs\\qua\\lib\\site-packages (from grpclib<0.5.0,>=0.4.1->betterproto==2.0.0b5->qm-qua==1.1.7.1) (6.0.5)\n",
      "Requirement already satisfied: hyperframe<7,>=6.0 in c:\\users\\wjd__\\anaconda3\\envs\\qua\\lib\\site-packages (from h2<5,>=3->httpx[http2]<0.24.0,>=0.23.3->qm-qua==1.1.7.1) (6.0.1)\n",
      "Requirement already satisfied: hpack<5,>=4.0 in c:\\users\\wjd__\\anaconda3\\envs\\qua\\lib\\site-packages (from h2<5,>=3->httpx[http2]<0.24.0,>=0.23.3->qm-qua==1.1.7.1) (4.0.0)\n",
      "Requirement already satisfied: h11<0.15,>=0.13 in c:\\users\\wjd__\\anaconda3\\envs\\qua\\lib\\site-packages (from httpcore<0.17.0,>=0.15.0->httpx<0.24.0,>=0.23.3->httpx[http2]<0.24.0,>=0.23.3->qm-qua==1.1.7.1) (0.14.0)\n",
      "Requirement already satisfied: anyio<5.0,>=3.0 in c:\\users\\wjd__\\anaconda3\\envs\\qua\\lib\\site-packages (from httpcore<0.17.0,>=0.15.0->httpx<0.24.0,>=0.23.3->httpx[http2]<0.24.0,>=0.23.3->qm-qua==1.1.7.1) (4.4.0)\n",
      "Requirement already satisfied: idna in c:\\users\\wjd__\\anaconda3\\envs\\qua\\lib\\site-packages (from rfc3986[idna2008]<2,>=1.3->httpx<0.24.0,>=0.23.3->httpx[http2]<0.24.0,>=0.23.3->qm-qua==1.1.7.1) (3.7)\n",
      "Requirement already satisfied: exceptiongroup>=1.0.2 in c:\\users\\wjd__\\anaconda3\\envs\\qua\\lib\\site-packages (from anyio<5.0,>=3.0->httpcore<0.17.0,>=0.15.0->httpx<0.24.0,>=0.23.3->httpx[http2]<0.24.0,>=0.23.3->qm-qua==1.1.7.1) (1.2.2)\n",
      "Downloading qm_qua-1.1.7.1-py3-none-any.whl (312 kB)\n",
      "   ---------------------------------------- 0.0/312.5 kB ? eta -:--:--\n",
      "   -- ------------------------------------ 20.5/312.5 kB 330.3 kB/s eta 0:00:01\n",
      "   -- ------------------------------------ 20.5/312.5 kB 330.3 kB/s eta 0:00:01\n",
      "   -- ------------------------------------ 20.5/312.5 kB 330.3 kB/s eta 0:00:01\n",
      "   ------- ------------------------------- 61.4/312.5 kB 328.2 kB/s eta 0:00:01\n",
      "   ------- ------------------------------- 61.4/312.5 kB 328.2 kB/s eta 0:00:01\n",
      "   ----------- --------------------------- 92.2/312.5 kB 350.1 kB/s eta 0:00:01\n",
      "   --------------------- ---------------- 174.1/312.5 kB 583.1 kB/s eta 0:00:01\n",
      "   -------------------------------------  307.2/312.5 kB 948.8 kB/s eta 0:00:01\n",
      "   -------------------------------------- 312.5/312.5 kB 921.5 kB/s eta 0:00:00\n",
      "Installing collected packages: qm-qua\n",
      "  Attempting uninstall: qm-qua\n",
      "    Found existing installation: qm-qua 1.1.7\n",
      "    Uninstalling qm-qua-1.1.7:\n",
      "      Successfully uninstalled qm-qua-1.1.7\n",
      "Successfully installed qm-qua-1.1.7.1\n",
      "Note: you may need to restart the kernel to use updated packages.\n"
     ]
    },
    {
     "name": "stderr",
     "output_type": "stream",
     "text": [
      "WARNING: The candidate selected for download or install is a yanked version: 'qm-qua' candidate (version 1.1.7.1 at https://files.pythonhosted.org/packages/b2/d6/dc67f8406eda3326a10d4746f8391cec0fe33f974385f30603ddc63d4cab/qm_qua-1.1.7.1-py3-none-any.whl (from https://pypi.org/simple/qm-qua/) (requires-python:<3.12,>=3.8))\n",
      "Reason for being yanked: Was supposed to be pre-release\n"
     ]
    }
   ],
   "source": [
    "pip install qm-qua==1.1.7.1"
   ]
  },
  {
   "cell_type": "code",
   "execution_count": null,
   "metadata": {},
   "outputs": [],
   "source": []
  }
 ],
 "metadata": {
  "kernelspec": {
   "display_name": "qua",
   "language": "python",
   "name": "python3"
  },
  "language_info": {
   "codemirror_mode": {
    "name": "ipython",
    "version": 3
   },
   "file_extension": ".py",
   "mimetype": "text/x-python",
   "name": "python",
   "nbconvert_exporter": "python",
   "pygments_lexer": "ipython3",
   "version": "3.9.19"
  }
 },
 "nbformat": 4,
 "nbformat_minor": 2
}
