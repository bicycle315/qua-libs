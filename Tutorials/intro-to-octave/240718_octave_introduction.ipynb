{
 "cells": [
  {
   "cell_type": "code",
   "execution_count": 5,
   "metadata": {},
   "outputs": [],
   "source": [
    "from qm import QuantumMachinesManager\n",
    "from qm.octave import *\n",
    "from qm.octave.octave_manager import ClockMode\n",
    "from qm.qua import *\n",
    "import os\n",
    "import time\n",
    "import matplotlib.pyplot as plt\n",
    "from qualang_tools.units import unit"
   ]
  },
  {
   "cell_type": "code",
   "execution_count": 10,
   "metadata": {},
   "outputs": [],
   "source": [
    "check_up_converters = False\n",
    "check_triggers = False\n",
    "check_down_converters = False\n",
    "calibration = False\n",
    "qop_ip = \"10.2.1.110\"\n",
    "cluster_name = \"TWPA\"\n",
    "opx_port = None\n",
    "octave_port = 11235  # Must be 11xxx, where xxx are the last three digits of the Octave IP address\n",
    "con = \"con1\"\n",
    "octave = \"oct1\"\n",
    "# The elements used to test the ports of the Octave\n",
    "elements = [\"pump\"]\n",
    "IF = 50e6  # The IF frequency\n",
    "LO = 6.3e9  # The LO frequency"
   ]
  },
  {
   "cell_type": "code",
   "execution_count": 13,
   "metadata": {},
   "outputs": [],
   "source": [
    "config = {\n",
    "    \"version\": 1,\n",
    "    \"controllers\": {\n",
    "        con: {\n",
    "            \"analog_outputs\": {\n",
    "                1: {\"offset\": 0.0},\n",
    "                2: {\"offset\": 0.0}\n",
    "            },\n",
    "            \"digital_outputs\": {\n",
    "                1: {}\n",
    "            }\n",
    "            ,\n",
    "            \"analog_inputs\": {\n",
    "                1: {\"offset\": 0.0},\n",
    "                2: {\"offset\": 0.0},\n",
    "            },\n",
    "        }\n",
    "    },\n",
    "    \"elements\": {\n",
    "        \"pump\": {\n",
    "            \"RF_inputs\": {\"port\": (\"oct1\", 1)},\n",
    "            \"RF_outputs\": {\"port\": (\"oct1\", 1)},\n",
    "            \"intermediate_frequency\": IF,\n",
    "            \"operations\": {\n",
    "                \"cw\": \"const\",\n",
    "                \"readout\": \"readout_pulse\",\n",
    "            },\n",
    "            \"digitalInputs\": {\n",
    "                \"switch\": {\n",
    "                    \"port\": (con, 1),\n",
    "                    \"delay\": 87,\n",
    "                    \"buffer\": 15,\n",
    "                },\n",
    "            },\n",
    "            \"time_of_flight\": 24,\n",
    "            \"smearing\": 0,\n",
    "        }\n",
    "    },\n",
    "    \"octaves\": {\n",
    "        \"oct1\": {\n",
    "            \"RF_outputs\": {\n",
    "                1: {\n",
    "                    \"LO_frequency\": 6.3e9,\n",
    "                    \"LO_source\": \"internal\",  # can be external or internal. internal is the default\n",
    "                    \"output_mode\": \"always_on\",  # can be: \"always_on\" / \"always_off\"/ \"triggered\" / \"triggered_reversed\". \"always_off\" is the default\n",
    "                    \"gain\": 0,  # can be in the range [-20 : 0.5 : 20]dB\n",
    "                }\n",
    "            },\n",
    "            \"connectivity\":\"con1\"\n",
    "            \n",
    "        }\n",
    "    },\n",
    "    \"pulses\": {\n",
    "        \"const\": {\n",
    "            \"operation\": \"control\",\n",
    "            \"length\": 1000,\n",
    "            \"waveforms\": {\n",
    "                \"I\": \"const_wf\",\n",
    "                \"Q\": \"zero_wf\",\n",
    "            },\n",
    "            \"digital_marker\": \"ON\",\n",
    "        },\n",
    "        \"readout_pulse\": {\n",
    "            \"operation\": \"measurement\",\n",
    "            \"length\": 1000,\n",
    "            \"waveforms\": {\n",
    "                \"I\": \"readout_wf\",\n",
    "                \"Q\": \"zero_wf\",\n",
    "            },\n",
    "            \"integration_weights\": {\n",
    "                \"cos\": \"cosine_weights\",\n",
    "                \"sin\": \"sine_weights\",\n",
    "                \"minus_sin\": \"minus_sine_weights\",\n",
    "            },\n",
    "            \"digital_marker\": \"ON\",\n",
    "        },\n",
    "    },\n",
    "    \"waveforms\": {\n",
    "        \"zero_wf\": {\n",
    "            \"type\": \"constant\",\n",
    "            \"sample\": 0.0,\n",
    "        },\n",
    "        \"const_wf\": {\n",
    "            \"type\": \"constant\",\n",
    "            \"sample\": 0.125,\n",
    "        },\n",
    "        \"readout_wf\": {\n",
    "            \"type\": \"constant\",\n",
    "            \"sample\": 0.125,\n",
    "        },\n",
    "    },\n",
    "    \"digital_waveforms\": {\n",
    "        \"ON\": {\"samples\": [(1, 0)]},\n",
    "        \"OFF\": {\"samples\": [(0, 0)]},\n",
    "    },\n",
    "    \"integration_weights\": {\n",
    "        \"cosine_weights\": {\n",
    "            \"cosine\": [(1.0, 1000)],\n",
    "            \"sine\": [(0.0, 1000)],\n",
    "        },\n",
    "        \"sine_weights\": {\n",
    "            \"cosine\": [(0.0, 1000)],\n",
    "            \"sine\": [(1.0, 1000)],\n",
    "        },\n",
    "        \"minus_sine_weights\": {\n",
    "            \"cosine\": [(0.0, 1000)],\n",
    "            \"sine\": [(-1.0, 1000)],\n",
    "        },\n",
    "    },\n",
    "}"
   ]
  },
  {
   "cell_type": "code",
   "execution_count": 14,
   "metadata": {},
   "outputs": [],
   "source": [
    "octave_config = QmOctaveConfig()\n",
    "octave_config.set_calibration_db(os.getcwd())\n",
    "octave_config.add_device_info(octave, qop_ip, octave_port)"
   ]
  },
  {
   "cell_type": "code",
   "execution_count": 15,
   "metadata": {},
   "outputs": [
    {
     "name": "stdout",
     "output_type": "stream",
     "text": [
      "2024-07-18 14:14:04,771 - qm - INFO     - Performing health check\n",
      "2024-07-18 14:14:04,787 - qm - INFO     - Health check passed\n"
     ]
    },
    {
     "name": "stderr",
     "output_type": "stream",
     "text": [
      "c:\\Users\\wjd__\\anaconda3\\envs\\qua\\lib\\site-packages\\qm\\quantum_machines_manager.py:102: DeprecationWarning: QMM was opened with OctaveConfig. Please note that from QOP2.4.0 the octave devices are managed by the cluster setting in the QM-app. It is recommended to remove the OctaveConfig from the QMM instantiation.\n",
      "  warnings.warn(\n"
     ]
    }
   ],
   "source": [
    "qmm = QuantumMachinesManager(host=qop_ip, port=opx_port, cluster_name=cluster_name, octave=octave_config)\n",
    "qm = qmm.open_qm(config)"
   ]
  },
  {
   "cell_type": "code",
   "execution_count": null,
   "metadata": {},
   "outputs": [],
   "source": []
  }
 ],
 "metadata": {
  "kernelspec": {
   "display_name": "qua",
   "language": "python",
   "name": "python3"
  },
  "language_info": {
   "codemirror_mode": {
    "name": "ipython",
    "version": 3
   },
   "file_extension": ".py",
   "mimetype": "text/x-python",
   "name": "python",
   "nbconvert_exporter": "python",
   "pygments_lexer": "ipython3",
   "version": "3.9.19"
  }
 },
 "nbformat": 4,
 "nbformat_minor": 2
}
